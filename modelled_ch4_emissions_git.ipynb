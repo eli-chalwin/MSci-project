{
 "cells": [
  {
   "cell_type": "code",
   "execution_count": 1,
   "metadata": {},
   "outputs": [],
   "source": [
    "import openghg \n",
    "from openghg.analyse import ModelScenario\n",
    "from openghg.retrieve import search_footprints, search_flux, get_footprint, get_flux, get_obs_surface, search, search_bc\n",
    "from matplotlib import pyplot as plt\n",
    "import numpy as np\n",
    "from cartopy import crs as ccrs\n",
    "import pandas as pd"
   ]
  },
  {
   "cell_type": "code",
   "execution_count": null,
   "metadata": {},
   "outputs": [],
   "source": [
    "search(network='decc',species='ch4',data_type='surface',store='obs_paris_2024_07_store').results"
   ]
  },
  {
   "cell_type": "code",
   "execution_count": 3,
   "metadata": {},
   "outputs": [],
   "source": [
    "site = \"rgl\"\n",
    "inlet = \"90\"\n",
    "\n",
    "#input site and inlet "
   ]
  },
  {
   "cell_type": "code",
   "execution_count": null,
   "metadata": {},
   "outputs": [],
   "source": [
    "#search for emissions data for ch4 \n",
    "search_flux(species=\"ch4\", store=\"old_shared_store_zarr\").results"
   ]
  },
  {
   "cell_type": "code",
   "execution_count": null,
   "metadata": {},
   "outputs": [],
   "source": [
    "#search for fooprints at site and inlet for inert (ch4)\n",
    "search_footprints(site=site,store=\"old_shared_store_zarr\", inlet=inlet, species=\"inert\").results"
   ]
  },
  {
   "cell_type": "code",
   "execution_count": null,
   "metadata": {},
   "outputs": [],
   "source": [
    "#getting the data \n",
    "\n",
    "footprint = get_footprint(site=site,store=\"old_shared_store_zarr\", inlet=inlet, species=\"inert\", domain = \"europe\")\n",
    "ds_fp = footprint.data\n",
    "\n",
    "flux = get_flux(species=\"ch4\", store=\"old_shared_store_zarr\", source = \"edgar-annual-total\", domain = \"europe\")\n",
    "ds_flux_ch4 = flux.data"
   ]
  },
  {
   "cell_type": "code",
   "execution_count": null,
   "metadata": {},
   "outputs": [],
   "source": [
    "ds_fp"
   ]
  },
  {
   "cell_type": "code",
   "execution_count": null,
   "metadata": {},
   "outputs": [],
   "source": [
    "ds_flux_ch4"
   ]
  },
  {
   "cell_type": "code",
   "execution_count": 9,
   "metadata": {},
   "outputs": [],
   "source": [
    "start_date = \"2015-01-01\"\n",
    "end_date = \" 2022-01-01\"\n",
    "\n",
    "#input dates"
   ]
  },
  {
   "cell_type": "code",
   "execution_count": 10,
   "metadata": {},
   "outputs": [],
   "source": [
    "# Define the time range for filtering data so it overlaps - may be aple to extrapolate?\n",
    "time_slice = slice(start_date, end_date)"
   ]
  },
  {
   "cell_type": "code",
   "execution_count": 11,
   "metadata": {},
   "outputs": [],
   "source": [
    "#ch4_model = (ds_flux_ch4.flux.reindex_like(ds_fp.time, method=\"nearest\") * ds_fp.fp).sum(dim=[\"lat\", \"lon\"])\n",
    "#(ch4_model*1e9).plot()\n",
    "#plt.ylabel(\"CH$_4$ (nmol/mol)\")\n",
    "\n",
    "#generates a model - but with default flux and fp times, where flux is 1970-2018 and fp is 2014-2023"
   ]
  },
  {
   "cell_type": "code",
   "execution_count": null,
   "metadata": {},
   "outputs": [],
   "source": [
    "\n",
    "ds_flux_ch4_subset = ds_flux_ch4.sel(time=time_slice)\n",
    "\n",
    "ds_flux_ch4_subset\n",
    "\n"
   ]
  },
  {
   "cell_type": "code",
   "execution_count": null,
   "metadata": {},
   "outputs": [],
   "source": [
    "ds_fp_subset = ds_fp.sel(time=time_slice)\n",
    "\n",
    "ds_fp_subset"
   ]
  },
  {
   "cell_type": "code",
   "execution_count": null,
   "metadata": {},
   "outputs": [],
   "source": [
    "ds_obs = get_obs_surface(site=site, species=\"ch4\", inlet=inlet, store=\"obs_paris_2024_07_store\")\n",
    "ds_obs = ds_obs.data \n",
    "ds_obs"
   ]
  },
  {
   "cell_type": "code",
   "execution_count": null,
   "metadata": {},
   "outputs": [],
   "source": [
    "ds_obs.mf.plot()"
   ]
  },
  {
   "cell_type": "code",
   "execution_count": null,
   "metadata": {},
   "outputs": [],
   "source": [
    "ds_obs_subset = ds_obs.sel(time=time_slice)\n",
    "ds_obs_subset.mf.plot()\n",
    "plt.title(f\"Observed CH4 for -{inlet} - {site}\" )"
   ]
  },
  {
   "cell_type": "code",
   "execution_count": null,
   "metadata": {},
   "outputs": [],
   "source": [
    "ch4_model_subset = (ds_flux_ch4_subset.flux.reindex_like(ds_fp_subset.time, method=\"nearest\") * ds_fp_subset.fp).sum(dim=[\"lat\", \"lon\"])\n",
    "(ch4_model_subset*1e9).plot()\n",
    "plt.ylabel(\"CH$_4$ (nmol/mol)\")\n",
    "plt.title(f\"Modelled CH4 for -{inlet} - {site}\" )"
   ]
  },
  {
   "cell_type": "code",
   "execution_count": null,
   "metadata": {},
   "outputs": [],
   "source": [
    "ch4_model_subset = (ds_flux_ch4_subset.flux.reindex_like(ds_fp_subset.time, method=\"nearest\") * ds_fp_subset.fp).sum(dim=[\"lat\", \"lon\"])\n",
    "ch4_model_subset_test = ch4_model_subset.resample(time=\"1M\").mean()\n",
    "(ch4_model_subset_test*1e9).plot()\n",
    "plt.ylabel(\"CH$_4$ (nmol/mol)\")\n",
    "plt.title(f\"Monthly average of modelled CH4 for -{inlet} - {site}\" )"
   ]
  },
  {
   "cell_type": "code",
   "execution_count": null,
   "metadata": {},
   "outputs": [],
   "source": [
    "ds_obs_subset_test = ds_obs.sel(time=time_slice).resample(time=\"1M\").mean()\n",
    "ds_obs_subset_test.mf.plot()\n",
    "plt.title(f\"Monthly average of observed CH4 for -{inlet} - {site}\" )"
   ]
  },
  {
   "cell_type": "code",
   "execution_count": null,
   "metadata": {},
   "outputs": [],
   "source": []
  }
 ],
 "metadata": {
  "kernelspec": {
   "display_name": "openghg_inv",
   "language": "python",
   "name": "python3"
  },
  "language_info": {
   "codemirror_mode": {
    "name": "ipython",
    "version": 3
   },
   "file_extension": ".py",
   "mimetype": "text/x-python",
   "name": "python",
   "nbconvert_exporter": "python",
   "pygments_lexer": "ipython3",
   "version": "3.12.6"
  }
 },
 "nbformat": 4,
 "nbformat_minor": 2
}
